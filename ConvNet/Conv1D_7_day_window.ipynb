{
 "cells": [
  {
   "cell_type": "code",
   "execution_count": null,
   "metadata": {},
   "outputs": [],
   "source": [
    "import numpy as np \n",
    "import pandas as pd \n",
    "import tensorflow as tf \n",
    "import keras\n",
    "from keras.layers import Dense, LSTM, SimpleRNN, GRU, Input, Conv1D, MaxPooling1D, Flatten\n",
    "from keras.models import Model, Sequential  \n",
    "\n",
    "df_train = pd.read_csv(\"./drive/My Drive/sales_train_validation.csv\")\n",
    "df_sell = pd.read_csv(\"./drive/My Drive/sell_prices.csv\")\n",
    "df_calendar = pd.read_csv(\"./drive/My Drive/calendar.csv\")\n",
    "df_ss = pd.read_csv(\"./drive/My Drive/sample_submission_m5.csv\")\n"
   ]
  },
  {
   "cell_type": "code",
   "execution_count": null,
   "metadata": {},
   "outputs": [],
   "source": [
    "days = range(1,1913+1) \n",
    "time_series_cols = [] \n",
    "for i in days: \n",
    "    time_series_cols.append('d_'+str(i)) \n",
    "time_series_cols[:10]\n"
   ]
  },
  {
   "cell_type": "code",
   "execution_count": null,
   "metadata": {},
   "outputs": [],
   "source": [
    "time_series_data = df_train[time_series_cols] \n",
    "time_series_data\n"
   ]
  },
  {
   "cell_type": "code",
   "execution_count": null,
   "metadata": {},
   "outputs": [],
   "source": [
    "time_series_data = np.asarray(time_series_data).astype('float32') \n",
    "print(time_series_data.shape)"
   ]
  },
  {
   "cell_type": "code",
   "execution_count": null,
   "metadata": {},
   "outputs": [],
   "source": [
    "def build_model(timesteps, features): \n",
    "    model = Sequential()\n",
    "    model.add(Conv1D(filters=64, kernel_size=3, activation='relu', input_shape=(timesteps, features)))\n",
    "    model.add(MaxPooling1D(pool_size=3))\n",
    "    model.add(Flatten())\n",
    "    model.add(Dense(50, activation='relu'))\n",
    "    model.add(Dense(features))\n",
    "    return model  "
   ]
  },
  {
   "cell_type": "code",
   "execution_count": null,
   "metadata": {},
   "outputs": [],
   "source": [
    "def split_xy2(dataset, time_steps):\n",
    "    x,y = list(), list() \n",
    "    for i in range(0,dataset.shape[1]-time_steps): \n",
    "        x.append(dataset[:,i:i+time_steps]) \n",
    "        y.append(dataset[:,i+time_steps]) \n",
    "    return np.array(x), np.array(y) "
   ]
  },
  {
   "cell_type": "code",
   "execution_count": null,
   "metadata": {},
   "outputs": [],
   "source": [
    "predictions = [] \n",
    "\n",
    "for i in range(1,29): \n",
    "    print(\"day {}\".format(i)) \n",
    "    data = time_series_data[:,::i]\n",
    "    x_train, y_train = split_xy2(data,7) \n",
    "    x_pred = data[:,data.shape[1]-7:] \n",
    "    x_train = x_train.reshape(x_train.shape[0],7,30490)  \n",
    "    x_pred = x_pred.reshape(1,7,30490)\n",
    "    print(x_train.shape) \n",
    "    print(x_pred.shape)  \n",
    "    model = build_model(7,30490)    \n",
    "    model.compile(optimizer='adam',loss='mse')  \n",
    "    model.fit(x_train,y_train,epochs=150)   \n",
    "    pred = model.predict(x_pred) \n",
    "    print(pred) \n",
    "    predictions.append(pred) \n"
   ]
  },
  {
   "cell_type": "code",
   "execution_count": null,
   "metadata": {},
   "outputs": [],
   "source": []
  },
  {
   "cell_type": "code",
   "execution_count": null,
   "metadata": {},
   "outputs": [],
   "source": []
  }
 ],
 "metadata": {
  "kernelspec": {
   "display_name": "Python 3",
   "language": "python",
   "name": "python3"
  },
  "language_info": {
   "codemirror_mode": {
    "name": "ipython",
    "version": 3
   },
   "file_extension": ".py",
   "mimetype": "text/x-python",
   "name": "python",
   "nbconvert_exporter": "python",
   "pygments_lexer": "ipython3",
   "version": "3.6.8"
  }
 },
 "nbformat": 4,
 "nbformat_minor": 4
}
